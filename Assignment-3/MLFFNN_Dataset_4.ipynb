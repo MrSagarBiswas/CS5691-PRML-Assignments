{
 "cells": [
  {
   "cell_type": "code",
   "execution_count": null,
   "metadata": {
    "colab": {
     "base_uri": "https://localhost:8080/"
    },
    "id": "x3Bvk7kormGX",
    "outputId": "17caa8ca-23ad-4a16-e0e1-ff94f793d601"
   },
   "outputs": [
    {
     "name": "stdout",
     "output_type": "stream",
     "text": [
      "Original Train data shape: (2100, 36)\n",
      "Original Val data shape: (300, 36)\n",
      "Original Test data shape: (600, 36)\n"
     ]
    }
   ],
   "source": [
    "import torch\n",
    "import torch.nn as nn\n",
    "import torch.optim as optim\n",
    "import torch.nn.functional as F\n",
    "import pandas as pd\n",
    "import numpy as np\n",
    "from sklearn.preprocessing import MinMaxScaler\n",
    "from torch.utils.data import DataLoader, TensorDataset\n",
    "import matplotlib.pyplot as plt\n",
    "\n",
    "# Load the CSV files\n",
    "train_data = pd.read_csv('train_data.csv', header=None)\n",
    "train_label = pd.read_csv('train_label.csv', header=None)\n",
    "val_data = pd.read_csv('val_data.csv', header=None)\n",
    "val_label = pd.read_csv('val_label.csv', header=None)\n",
    "test_data = pd.read_csv('test_data.csv', header=None)\n",
    "test_label = pd.read_csv('test_label.csv', header=None)\n",
    "\n",
    "# Print the dataset shapes to verify dimensions\n",
    "print(f'Original Train data shape: {train_data.shape}')\n",
    "print(f'Original Val data shape: {val_data.shape}')\n",
    "print(f'Original Test data shape: {test_data.shape}')\n",
    "\n",
    "# Ensure that the number of features is 36 (expected size)\n",
    "assert train_data.shape[1] == 36, \"Train data does not have 36 features\"\n",
    "assert val_data.shape[1] == 36, \"Val data does not have 36 features\"\n",
    "assert test_data.shape[1] == 36, \"Test data does not have 36 features\""
   ]
  },
  {
   "cell_type": "code",
   "execution_count": null,
   "metadata": {
    "colab": {
     "base_uri": "https://localhost:8080/"
    },
    "id": "zqhPRWXTrrro",
    "outputId": "876ef80f-8aea-4a85-868f-457f094175b4"
   },
   "outputs": [
    {
     "name": "stdout",
     "output_type": "stream",
     "text": [
      "Train data tensor shape: torch.Size([2100, 36])\n",
      "Val data tensor shape: torch.Size([300, 36])\n",
      "Test data tensor shape: torch.Size([600, 36])\n"
     ]
    }
   ],
   "source": [
    "# Min-Max Normalization\n",
    "scaler = MinMaxScaler()\n",
    "\n",
    "train_data_normalized = scaler.fit_transform(train_data)\n",
    "val_data_normalized = scaler.transform(val_data)\n",
    "test_data_normalized = scaler.transform(test_data)\n",
    "\n",
    "# Convert to tensors\n",
    "train_data_tensor = torch.tensor(train_data_normalized, dtype=torch.float32)\n",
    "train_label_tensor = torch.tensor(train_label.values.flatten(), dtype=torch.long)\n",
    "\n",
    "val_data_tensor = torch.tensor(val_data_normalized, dtype=torch.float32)\n",
    "val_label_tensor = torch.tensor(val_label.values.flatten(), dtype=torch.long)\n",
    "\n",
    "test_data_tensor = torch.tensor(test_data_normalized, dtype=torch.float32)\n",
    "test_label_tensor = torch.tensor(test_label.values.flatten(), dtype=torch.long)\n",
    "\n",
    "# Print tensor shapes to verify\n",
    "print(f'Train data tensor shape: {train_data_tensor.shape}')\n",
    "print(f'Val data tensor shape: {val_data_tensor.shape}')\n",
    "print(f'Test data tensor shape: {test_data_tensor.shape}')"
   ]
  },
  {
   "cell_type": "code",
   "execution_count": null,
   "metadata": {
    "id": "ZeVknP2JpHnR"
   },
   "outputs": [],
   "source": [
    "# Dataset and DataLoader\n",
    "batch_size = 32\n",
    "train_dataset = TensorDataset(train_data_tensor, train_label_tensor)\n",
    "train_loader = DataLoader(train_dataset, batch_size=batch_size, shuffle=True)\n",
    "\n",
    "val_dataset = TensorDataset(val_data_tensor, val_label_tensor)\n",
    "val_loader = DataLoader(val_dataset, batch_size=batch_size, shuffle=False)\n",
    "\n",
    "test_dataset = TensorDataset(test_data_tensor, test_label_tensor)\n",
    "test_loader = DataLoader(test_dataset, batch_size=batch_size, shuffle=False)"
   ]
  },
  {
   "cell_type": "code",
   "execution_count": null,
   "metadata": {
    "id": "SBksoqLUpM-O"
   },
   "outputs": [],
   "source": [
    "# Define the MLFFNN model\n",
    "class MLFFNN(nn.Module):\n",
    "    def __init__(self, input_size, hidden1_size, hidden2_size, output_size):\n",
    "        super(MLFFNN, self).__init__()\n",
    "        self.fc1 = nn.Linear(input_size, hidden1_size)\n",
    "        self.fc2 = nn.Linear(hidden1_size, hidden2_size)\n",
    "        self.fc3 = nn.Linear(hidden2_size, output_size)\n",
    "\n",
    "    def forward(self, x):\n",
    "        x = torch.tanh(self.fc1(x))  # Tanh activation for hidden layers\n",
    "        x = torch.tanh(self.fc2(x))\n",
    "        x = F.softmax(self.fc3(x), dim=1)  # Softmax activation for output layer\n",
    "        return x"
   ]
  },
  {
   "cell_type": "code",
   "execution_count": null,
   "metadata": {
    "id": "3gSND7zapShb"
   },
   "outputs": [],
   "source": [
    "# Instantiate the model\n",
    "input_size = 36  # Number of input features\n",
    "hidden1_size = 25\n",
    "hidden2_size = 15\n",
    "output_size = 5  # Assuming 5 classes in the dataset\n",
    "model = MLFFNN(input_size, hidden1_size, hidden2_size, output_size)"
   ]
  },
  {
   "cell_type": "code",
   "execution_count": null,
   "metadata": {
    "id": "IN_FBF0ZpTQz"
   },
   "outputs": [],
   "source": [
    "# Define hyperparameters\n",
    "learning_rate = 0.07\n",
    "momentum = 0.9\n",
    "threshold = 0.0001  # Convergence criterion on average error"
   ]
  },
  {
   "cell_type": "code",
   "execution_count": null,
   "metadata": {
    "id": "XLB9SsSRpXZq"
   },
   "outputs": [],
   "source": [
    "# Loss function and optimizer\n",
    "criterion = nn.CrossEntropyLoss()\n",
    "optimizer = optim.SGD(model.parameters(), lr=learning_rate, momentum=momentum)"
   ]
  },
  {
   "cell_type": "code",
   "execution_count": null,
   "metadata": {
    "id": "L0GQGqNnphVE"
   },
   "outputs": [],
   "source": [
    "# Training function\n",
    "def train_model(model, train_loader, optimizer, criterion, num_epochs=500):\n",
    "    model.train()\n",
    "    loss_list = []\n",
    "    epoch_list = []\n",
    "\n",
    "    for epoch in range(num_epochs):\n",
    "        epoch_loss = 0\n",
    "        for data, labels in train_loader:\n",
    "            optimizer.zero_grad()\n",
    "            outputs = model(data)\n",
    "            loss = criterion(outputs, labels)\n",
    "            loss.backward()\n",
    "            optimizer.step()\n",
    "            epoch_loss += loss.item()\n",
    "\n",
    "        avg_loss = epoch_loss / len(train_loader)\n",
    "        loss_list.append(avg_loss)\n",
    "        epoch_list.append(epoch)\n",
    "\n",
    "        # Early stopping based on the change in average error\n",
    "        if epoch > 0 and abs(loss_list[-1] - loss_list[-2]) < threshold:\n",
    "            print(f\"Converged after {epoch} epochs\")\n",
    "            break\n",
    "\n",
    "        print(f'Epoch [{epoch+1}/{num_epochs}], Loss: {avg_loss:.4f}')\n",
    "\n",
    "    # Plot Training Error\n",
    "    plot_training_error(epoch_list, loss_list)"
   ]
  },
  {
   "cell_type": "code",
   "execution_count": null,
   "metadata": {
    "id": "iC6xfFCLpiAj"
   },
   "outputs": [],
   "source": [
    "# Plot function for training error\n",
    "def plot_training_error(epochs, losses):\n",
    "    plt.figure(figsize=(8,6))\n",
    "    plt.plot(epochs, losses, label=\"Training Error\")\n",
    "    plt.xlabel('Epoch')\n",
    "    plt.ylabel('Average Loss')\n",
    "    plt.title('Training Error (ξav) vs Epoch')\n",
    "    plt.legend()\n",
    "    plt.grid(True)\n",
    "    plt.show()"
   ]
  },
  {
   "cell_type": "code",
   "execution_count": null,
   "metadata": {
    "colab": {
     "base_uri": "https://localhost:8080/",
     "height": 1000
    },
    "id": "hQnQQpllptby",
    "outputId": "d468f3b2-a42e-4574-eb9f-dbca0511469c"
   },
   "outputs": [
    {
     "name": "stdout",
     "output_type": "stream",
     "text": [
      "Epoch [1/500], Loss: 1.6090\n",
      "Epoch [2/500], Loss: 1.5997\n",
      "Epoch [3/500], Loss: 1.5673\n",
      "Epoch [4/500], Loss: 1.5330\n",
      "Epoch [5/500], Loss: 1.5143\n",
      "Epoch [6/500], Loss: 1.4826\n",
      "Epoch [7/500], Loss: 1.4625\n",
      "Epoch [8/500], Loss: 1.4392\n",
      "Epoch [9/500], Loss: 1.4384\n",
      "Epoch [10/500], Loss: 1.4244\n",
      "Epoch [11/500], Loss: 1.4234\n",
      "Epoch [12/500], Loss: 1.4232\n",
      "Epoch [13/500], Loss: 1.4188\n",
      "Epoch [14/500], Loss: 1.4052\n",
      "Epoch [15/500], Loss: 1.3927\n",
      "Epoch [16/500], Loss: 1.3990\n",
      "Epoch [17/500], Loss: 1.3996\n",
      "Epoch [18/500], Loss: 1.3862\n",
      "Epoch [19/500], Loss: 1.3839\n",
      "Epoch [20/500], Loss: 1.3861\n",
      "Epoch [21/500], Loss: 1.3839\n",
      "Epoch [22/500], Loss: 1.3932\n",
      "Epoch [23/500], Loss: 1.3763\n",
      "Epoch [24/500], Loss: 1.3862\n",
      "Epoch [25/500], Loss: 1.3941\n",
      "Epoch [26/500], Loss: 1.3872\n",
      "Epoch [27/500], Loss: 1.3883\n",
      "Epoch [28/500], Loss: 1.3666\n",
      "Epoch [29/500], Loss: 1.3716\n",
      "Epoch [30/500], Loss: 1.3635\n",
      "Epoch [31/500], Loss: 1.3601\n",
      "Epoch [32/500], Loss: 1.3658\n",
      "Epoch [33/500], Loss: 1.3679\n",
      "Epoch [34/500], Loss: 1.3554\n",
      "Epoch [35/500], Loss: 1.3482\n",
      "Epoch [36/500], Loss: 1.3598\n",
      "Epoch [37/500], Loss: 1.3614\n",
      "Epoch [38/500], Loss: 1.3472\n",
      "Epoch [39/500], Loss: 1.3441\n",
      "Epoch [40/500], Loss: 1.3472\n",
      "Epoch [41/500], Loss: 1.3456\n",
      "Epoch [42/500], Loss: 1.3387\n",
      "Epoch [43/500], Loss: 1.3477\n",
      "Epoch [44/500], Loss: 1.3491\n",
      "Epoch [45/500], Loss: 1.3427\n",
      "Epoch [46/500], Loss: 1.3361\n",
      "Epoch [47/500], Loss: 1.3473\n",
      "Epoch [48/500], Loss: 1.3349\n",
      "Epoch [49/500], Loss: 1.3327\n",
      "Epoch [50/500], Loss: 1.3404\n",
      "Epoch [51/500], Loss: 1.3258\n",
      "Epoch [52/500], Loss: 1.3294\n",
      "Epoch [53/500], Loss: 1.3287\n",
      "Epoch [54/500], Loss: 1.3200\n",
      "Epoch [55/500], Loss: 1.3194\n",
      "Epoch [56/500], Loss: 1.3393\n",
      "Epoch [57/500], Loss: 1.3401\n",
      "Epoch [58/500], Loss: 1.3283\n",
      "Epoch [59/500], Loss: 1.3193\n",
      "Epoch [60/500], Loss: 1.3127\n",
      "Epoch [61/500], Loss: 1.3214\n",
      "Epoch [62/500], Loss: 1.3133\n",
      "Epoch [63/500], Loss: 1.3089\n",
      "Epoch [64/500], Loss: 1.3184\n",
      "Epoch [65/500], Loss: 1.3226\n",
      "Epoch [66/500], Loss: 1.3045\n",
      "Epoch [67/500], Loss: 1.3254\n",
      "Epoch [68/500], Loss: 1.3050\n",
      "Epoch [69/500], Loss: 1.3114\n",
      "Epoch [70/500], Loss: 1.3106\n",
      "Epoch [71/500], Loss: 1.3039\n",
      "Epoch [72/500], Loss: 1.3038\n",
      "Epoch [73/500], Loss: 1.2963\n",
      "Epoch [74/500], Loss: 1.2992\n",
      "Epoch [75/500], Loss: 1.2940\n",
      "Epoch [76/500], Loss: 1.2996\n",
      "Epoch [77/500], Loss: 1.2886\n",
      "Epoch [78/500], Loss: 1.3024\n",
      "Epoch [79/500], Loss: 1.2931\n",
      "Epoch [80/500], Loss: 1.2894\n",
      "Epoch [81/500], Loss: 1.2929\n",
      "Epoch [82/500], Loss: 1.2863\n",
      "Epoch [83/500], Loss: 1.2820\n",
      "Epoch [84/500], Loss: 1.2804\n",
      "Epoch [85/500], Loss: 1.2787\n",
      "Epoch [86/500], Loss: 1.2792\n",
      "Epoch [87/500], Loss: 1.2896\n",
      "Epoch [88/500], Loss: 1.2842\n",
      "Epoch [89/500], Loss: 1.2845\n",
      "Epoch [90/500], Loss: 1.2785\n",
      "Epoch [91/500], Loss: 1.2712\n",
      "Epoch [92/500], Loss: 1.2777\n",
      "Epoch [93/500], Loss: 1.2734\n",
      "Epoch [94/500], Loss: 1.2825\n",
      "Epoch [95/500], Loss: 1.2726\n",
      "Epoch [96/500], Loss: 1.2911\n",
      "Epoch [97/500], Loss: 1.2747\n",
      "Epoch [98/500], Loss: 1.2647\n",
      "Epoch [99/500], Loss: 1.2632\n",
      "Epoch [100/500], Loss: 1.2728\n",
      "Epoch [101/500], Loss: 1.2637\n",
      "Epoch [102/500], Loss: 1.2601\n",
      "Epoch [103/500], Loss: 1.2540\n",
      "Epoch [104/500], Loss: 1.2588\n",
      "Epoch [105/500], Loss: 1.2485\n",
      "Epoch [106/500], Loss: 1.2574\n",
      "Epoch [107/500], Loss: 1.2578\n",
      "Epoch [108/500], Loss: 1.2496\n",
      "Epoch [109/500], Loss: 1.2437\n",
      "Epoch [110/500], Loss: 1.2436\n",
      "Epoch [111/500], Loss: 1.2670\n",
      "Epoch [112/500], Loss: 1.2506\n",
      "Epoch [113/500], Loss: 1.2385\n",
      "Epoch [114/500], Loss: 1.2471\n",
      "Epoch [115/500], Loss: 1.2457\n",
      "Epoch [116/500], Loss: 1.2441\n",
      "Epoch [117/500], Loss: 1.2369\n",
      "Epoch [118/500], Loss: 1.2452\n",
      "Epoch [119/500], Loss: 1.2390\n",
      "Epoch [120/500], Loss: 1.2316\n",
      "Epoch [121/500], Loss: 1.2368\n",
      "Epoch [122/500], Loss: 1.2315\n",
      "Epoch [123/500], Loss: 1.2288\n",
      "Epoch [124/500], Loss: 1.2363\n",
      "Epoch [125/500], Loss: 1.2442\n",
      "Epoch [126/500], Loss: 1.2295\n",
      "Epoch [127/500], Loss: 1.2322\n",
      "Epoch [128/500], Loss: 1.2334\n",
      "Epoch [129/500], Loss: 1.2274\n",
      "Epoch [130/500], Loss: 1.2357\n",
      "Epoch [131/500], Loss: 1.2192\n",
      "Epoch [132/500], Loss: 1.2210\n",
      "Epoch [133/500], Loss: 1.2214\n",
      "Epoch [134/500], Loss: 1.2167\n",
      "Epoch [135/500], Loss: 1.2119\n",
      "Epoch [136/500], Loss: 1.2239\n",
      "Epoch [137/500], Loss: 1.2134\n",
      "Epoch [138/500], Loss: 1.2112\n",
      "Epoch [139/500], Loss: 1.2142\n",
      "Epoch [140/500], Loss: 1.2147\n",
      "Epoch [141/500], Loss: 1.2236\n",
      "Epoch [142/500], Loss: 1.2169\n",
      "Epoch [143/500], Loss: 1.2191\n",
      "Epoch [144/500], Loss: 1.2147\n",
      "Epoch [145/500], Loss: 1.2217\n",
      "Epoch [146/500], Loss: 1.2161\n",
      "Epoch [147/500], Loss: 1.2170\n",
      "Epoch [148/500], Loss: 1.2072\n",
      "Epoch [149/500], Loss: 1.2023\n",
      "Epoch [150/500], Loss: 1.2049\n",
      "Epoch [151/500], Loss: 1.2057\n",
      "Epoch [152/500], Loss: 1.2003\n",
      "Epoch [153/500], Loss: 1.2043\n",
      "Epoch [154/500], Loss: 1.2029\n",
      "Epoch [155/500], Loss: 1.2035\n",
      "Epoch [156/500], Loss: 1.2113\n",
      "Epoch [157/500], Loss: 1.2091\n",
      "Epoch [158/500], Loss: 1.2033\n",
      "Epoch [159/500], Loss: 1.2028\n",
      "Epoch [160/500], Loss: 1.1981\n",
      "Epoch [161/500], Loss: 1.1923\n",
      "Epoch [162/500], Loss: 1.1968\n",
      "Epoch [163/500], Loss: 1.1959\n",
      "Epoch [164/500], Loss: 1.1981\n",
      "Epoch [165/500], Loss: 1.2055\n",
      "Epoch [166/500], Loss: 1.1981\n",
      "Epoch [167/500], Loss: 1.2028\n",
      "Epoch [168/500], Loss: 1.1980\n",
      "Epoch [169/500], Loss: 1.2000\n",
      "Epoch [170/500], Loss: 1.1987\n",
      "Epoch [171/500], Loss: 1.2043\n",
      "Epoch [172/500], Loss: 1.1919\n",
      "Epoch [173/500], Loss: 1.1881\n",
      "Epoch [174/500], Loss: 1.1932\n",
      "Epoch [175/500], Loss: 1.1926\n",
      "Epoch [176/500], Loss: 1.1876\n",
      "Epoch [177/500], Loss: 1.1996\n",
      "Epoch [178/500], Loss: 1.1897\n",
      "Epoch [179/500], Loss: 1.1871\n",
      "Epoch [180/500], Loss: 1.1836\n",
      "Epoch [181/500], Loss: 1.1856\n",
      "Epoch [182/500], Loss: 1.1800\n",
      "Epoch [183/500], Loss: 1.1802\n",
      "Epoch [184/500], Loss: 1.1786\n",
      "Epoch [185/500], Loss: 1.1823\n",
      "Epoch [186/500], Loss: 1.1818\n",
      "Converged after 186 epochs\n"
     ]
    },
    {
     "data": {
      "image/png": "[encoded data removed]",
      "text/plain": [
       "<Figure size 800x600 with 1 Axes>"
      ]
     },
     "metadata": {},
     "output_type": "display_data"
    }
   ],
   "source": [
    "# Train the model\n",
    "train_model(model, train_loader, optimizer, criterion)"
   ]
  },
  {
   "cell_type": "code",
   "execution_count": null,
   "metadata": {
    "id": "a3fH1OoApv66"
   },
   "outputs": [],
   "source": [
    "# Validation and Test functions to evaluate the model\n",
    "def evaluate_model(model, data_loader):\n",
    "    model.eval()\n",
    "    correct = 0\n",
    "    total = 0\n",
    "    with torch.no_grad():\n",
    "        for data, labels in data_loader:\n",
    "            outputs = model(data)\n",
    "            _, predicted = torch.max(outputs.data, 1)\n",
    "            total += labels.size(0)\n",
    "            correct += (predicted == labels).sum().item()\n",
    "\n",
    "    accuracy = correct / total * 100\n",
    "    return accuracy"
   ]
  },
  {
   "cell_type": "code",
   "execution_count": null,
   "metadata": {
    "colab": {
     "base_uri": "https://localhost:8080/"
    },
    "id": "ufQKuCG7px_Q",
    "outputId": "fc93d173-0fec-4277-8f78-23ed7ba0f627"
   },
   "outputs": [
    {
     "name": "stdout",
     "output_type": "stream",
     "text": [
      "Validation Accuracy: 48.00%\n",
      "Test Accuracy: 49.67%\n",
      "Train Accuracy: 72.95%\n"
     ]
    }
   ],
   "source": [
    "# Evaluate on validation and test datasets\n",
    "val_accuracy = evaluate_model(model, val_loader)\n",
    "test_accuracy = evaluate_model(model, test_loader)\n",
    "train_accuracy = evaluate_model(model, train_loader)\n",
    "\n",
    "print(f'Validation Accuracy: {val_accuracy:.2f}%')\n",
    "print(f'Test Accuracy: {test_accuracy:.2f}%')\n",
    "print(f'Train Accuracy: {train_accuracy:.2f}%')"
   ]
  }
 ],
 "metadata": {
  "colab": {
   "provenance": []
  },
  "kernelspec": {
   "display_name": "Python 3 (ipykernel)",
   "language": "python",
   "name": "python3"
  },
  "language_info": {
   "codemirror_mode": {
    "name": "ipython",
    "version": 3
   },
   "file_extension": ".py",
   "mimetype": "text/x-python",
   "name": "python",
   "nbconvert_exporter": "python",
   "pygments_lexer": "ipython3",
   "version": "3.12.4"
  }
 },
 "nbformat": 4,
 "nbformat_minor": 4
}
